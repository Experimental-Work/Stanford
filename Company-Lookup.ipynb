{
 "cells": [
  {
   "cell_type": "code",
   "execution_count": null,
   "id": "initial_id",
   "metadata": {
    "collapsed": true
   },
   "outputs": [],
   "source": [
    "import openai\n",
    "from google.colab import userdata\n",
    "\n",
    "# Set up OpenAI client\n",
    "my_openai_key = userdata.get('MyOpenAIKey')\n",
    "client = openai.OpenAI(api_key=my_openai_key)\n",
    "\n",
    "def chat(message, system_content):\n",
    "    response = client.chat.completions.create(\n",
    "        model=\"gpt-4\",\n",
    "        messages=[\n",
    "            {\"role\": \"system\", \"content\": system_content},\n",
    "            {\"role\": \"user\", \"content\": message},\n",
    "        ]\n",
    "    )\n",
    "    return response.choices[0].message.content\n",
    "\n",
    "def main():\n",
    "    # Get company information from user\n",
    "    company_name = input(\"What company do you want to learn about? \")\n",
    "    company_url = input(\"What is their URL (to make sure we're talking about the same company)? \")\n",
    "\n",
    "    # Ask user what information they want\n",
    "    print(\"\\nWhat would you like to know about the company?\")\n",
    "    print(\"1. Main product(s)/lines\")\n",
    "    print(\"2. Industry/sectors they operate in\")\n",
    "    print(\"3. Current level(s) of competition\")\n",
    "    print(\"4. Expected future prospects over the next 5 years\")\n",
    "    choice = input(\"Enter your choice (1-4): \")\n",
    "\n",
    "    # Prepare the query based on user's choice\n",
    "    if choice == '1':\n",
    "        query = f\"What are the main product(s) or product lines of {company_name} (URL: {company_url})?\"\n",
    "    elif choice == '2':\n",
    "        query = f\"In which industry/sectors does {company_name} (URL: {company_url}) operate?\"\n",
    "    elif choice == '3':\n",
    "        query = f\"What is the current level of competition for {company_name} (URL: {company_url})?\"\n",
    "    elif choice == '4':\n",
    "        query = f\"What are the expected future prospects over the next 5 years for {company_name} (URL: {company_url})?\"\n",
    "    else:\n",
    "        print(\"Invalid choice. Exiting.\")\n",
    "        return\n",
    "\n",
    "    # Get information from OpenAI\n",
    "    system_content = \"You are a helpful assistant that provides concise and accurate information about companies.\"\n",
    "    response = chat(query, system_content)\n",
    "\n",
    "    # Print the response\n",
    "    print(\"\\nHere's the information you requested:\")\n",
    "    print(response)\n",
    "\n",
    "if __name__ == \"__main__\":\n",
    "    main()"
   ]
  }
 ],
 "metadata": {
  "kernelspec": {
   "display_name": "Python 3",
   "language": "python",
   "name": "python3"
  },
  "language_info": {
   "codemirror_mode": {
    "name": "ipython",
    "version": 2
   },
   "file_extension": ".py",
   "mimetype": "text/x-python",
   "name": "python",
   "nbconvert_exporter": "python",
   "pygments_lexer": "ipython2",
   "version": "2.7.6"
  }
 },
 "nbformat": 4,
 "nbformat_minor": 5
}
